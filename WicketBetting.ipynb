{
 "cells": [
  {
   "cell_type": "code",
   "execution_count": 1,
   "metadata": {},
   "outputs": [],
   "source": [
    "import WicketBetting"
   ]
  },
  {
   "cell_type": "code",
   "execution_count": 2,
   "metadata": {
    "scrolled": true
   },
   "outputs": [
    {
     "name": "stdout",
     "output_type": "stream",
     "text": [
      "logistic regression  Mean Absolute Error: 0.14 degrees.\n",
      "logistic regression   Acc: 0.8647\n",
      "logistic regression   Confusion matrix:\n",
      "[[5267    4]\n",
      " [ 821    7]]\n",
      "loading model...\n",
      "0.8647319232661091\n",
      "Multi layer pereptron  Mean Absolute Error: 0.14 degrees.\n",
      "Multi layer pereptron   Acc: 0.8642\n",
      "Multi layer pereptron   Confusion matrix:\n",
      "[[5271    0]\n",
      " [ 828    0]]\n",
      "loading model...\n",
      "0.8642400393507133\n",
      "logistic regression  Mean Absolute Error: 0.14 degrees.\n",
      "logistic regression   Acc: 0.8570\n",
      "logistic regression   Confusion matrix:\n",
      "[[5225    6]\n",
      " [ 866    2]]\n",
      "loading model...\n",
      "0.8570257419249058\n",
      "Multi layer pereptron  Mean Absolute Error: 0.14 degrees.\n",
      "Multi layer pereptron   Acc: 0.8577\n",
      "Multi layer pereptron   Confusion matrix:\n",
      "[[5231    0]\n",
      " [ 868    0]]\n",
      "loading model...\n",
      "0.8576815871454336\n",
      "logistic regression  Mean Absolute Error: 0.15 degrees.\n",
      "logistic regression   Acc: 0.8503\n",
      "logistic regression   Confusion matrix:\n",
      "[[5184    0]\n",
      " [ 913    2]]\n",
      "loading model...\n",
      "0.8503033284144942\n",
      "Multi layer pereptron  Mean Absolute Error: 0.15 degrees.\n",
      "Multi layer pereptron   Acc: 0.8501\n",
      "Multi layer pereptron   Confusion matrix:\n",
      "[[5184    0]\n",
      " [ 914    1]]\n",
      "loading model...\n",
      "0.8501393671093622\n",
      "logistic regression  Mean Absolute Error: 0.15 degrees.\n",
      "logistic regression   Acc: 0.8496\n",
      "logistic regression   Confusion matrix:\n",
      "[[5180    1]\n",
      " [ 916    2]]\n",
      "loading model...\n",
      "0.8496474831939662\n",
      "Multi layer pereptron  Mean Absolute Error: 0.15 degrees.\n",
      "Multi layer pereptron   Acc: 0.8495\n",
      "Multi layer pereptron   Confusion matrix:\n",
      "[[5180    1]\n",
      " [ 917    1]]\n",
      "loading model...\n",
      "0.8494835218888342\n"
     ]
    }
   ],
   "source": [
    "WicketBetting.main()"
   ]
  },
  {
   "cell_type": "code",
   "execution_count": null,
   "metadata": {},
   "outputs": [],
   "source": []
  }
 ],
 "metadata": {
  "kernelspec": {
   "display_name": "Python 3",
   "language": "python",
   "name": "python3"
  },
  "language_info": {
   "codemirror_mode": {
    "name": "ipython",
    "version": 3
   },
   "file_extension": ".py",
   "mimetype": "text/x-python",
   "name": "python",
   "nbconvert_exporter": "python",
   "pygments_lexer": "ipython3",
   "version": "3.7.4"
  }
 },
 "nbformat": 4,
 "nbformat_minor": 2
}
