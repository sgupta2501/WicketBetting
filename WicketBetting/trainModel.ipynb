{
 "cells": [
  {
   "cell_type": "code",
   "execution_count": 1,
   "metadata": {},
   "outputs": [],
   "source": [
    "import trainModel"
   ]
  },
  {
   "cell_type": "code",
   "execution_count": 2,
   "metadata": {},
   "outputs": [
    {
     "name": "stdout",
     "output_type": "stream",
     "text": [
      "count of data labels before up sampling of minority class 0.0    20995\n",
      "1.0     3401\n",
      "Name: y, dtype: int64\n",
      "count of data labels after up sampling of minority class 1.0    20995\n",
      "0.0    20995\n",
      "Name: y, dtype: int64\n",
      "logistic regression  Mean Absolute Error: 0.4 degrees.\n",
      "logistic regression   Acc: 0.5965\n",
      "logistic regression   Confusion matrix:\n",
      "[[2706 2475]\n",
      " [1761 3556]]\n",
      "loading model...\n",
      "0.5964945703943608\n",
      "Multi layer pereptron  Mean Absolute Error: 0.39 degrees.\n",
      "Multi layer pereptron   Acc: 0.6149\n",
      "Multi layer pereptron   Confusion matrix:\n",
      "[[2595 2586]\n",
      " [1457 3860]]\n",
      "loading model...\n",
      "0.6148790245761098\n",
      "count of data labels before up sampling of minority class 0.0    20933\n",
      "1.0     3463\n",
      "Name: y, dtype: int64\n",
      "count of data labels after up sampling of minority class 1.0    20933\n",
      "0.0    20933\n",
      "Name: y, dtype: int64\n",
      "logistic regression  Mean Absolute Error: 0.39 degrees.\n",
      "logistic regression   Acc: 0.6102\n",
      "logistic regression   Confusion matrix:\n",
      "[[2768 2413]\n",
      " [1667 3619]]\n",
      "loading model...\n",
      "0.6102034967039266\n",
      "Multi layer pereptron  Mean Absolute Error: 0.39 degrees.\n",
      "Multi layer pereptron   Acc: 0.6056\n",
      "Multi layer pereptron   Confusion matrix:\n",
      "[[2370 2811]\n",
      " [1317 3969]]\n",
      "loading model...\n",
      "0.6056176554886787\n",
      "count of data labels before up sampling of minority class 0.0    20877\n",
      "1.0     3519\n",
      "Name: y, dtype: int64\n",
      "count of data labels after up sampling of minority class 1.0    20877\n",
      "0.0    20877\n",
      "Name: y, dtype: int64\n",
      "logistic regression  Mean Absolute Error: 0.4 degrees.\n",
      "logistic regression   Acc: 0.6006\n",
      "logistic regression   Confusion matrix:\n",
      "[[2140 3060]\n",
      " [1109 4130]]\n",
      "loading model...\n",
      "0.6006322444678609\n",
      "Multi layer pereptron  Mean Absolute Error: 0.38 degrees.\n",
      "Multi layer pereptron   Acc: 0.6230\n",
      "Multi layer pereptron   Confusion matrix:\n",
      "[[2231 2969]\n",
      " [ 967 4272]]\n",
      "loading model...\n",
      "0.6229523900756777\n",
      "count of data labels before up sampling of minority class 0.0    20798\n",
      "1.0     3598\n",
      "Name: y, dtype: int64\n",
      "count of data labels after up sampling of minority class 1.0    20798\n",
      "0.0    20798\n",
      "Name: y, dtype: int64\n",
      "logistic regression  Mean Absolute Error: 0.38 degrees.\n",
      "logistic regression   Acc: 0.6225\n",
      "logistic regression   Confusion matrix:\n",
      "[[2530 2644]\n",
      " [1282 3943]]\n",
      "loading model...\n",
      "0.6224636984325416\n",
      "Multi layer pereptron  Mean Absolute Error: 0.38 degrees.\n",
      "Multi layer pereptron   Acc: 0.6198\n",
      "Multi layer pereptron   Confusion matrix:\n",
      "[[1636 3538]\n",
      " [ 416 4809]]\n",
      "loading model...\n",
      "0.6197711318396\n"
     ]
    }
   ],
   "source": [
    "trainModel.main()"
   ]
  }
 ],
 "metadata": {
  "kernelspec": {
   "display_name": "Python 3",
   "language": "python",
   "name": "python3"
  },
  "language_info": {
   "codemirror_mode": {
    "name": "ipython",
    "version": 3
   },
   "file_extension": ".py",
   "mimetype": "text/x-python",
   "name": "python",
   "nbconvert_exporter": "python",
   "pygments_lexer": "ipython3",
   "version": "3.7.4"
  }
 },
 "nbformat": 4,
 "nbformat_minor": 2
}
